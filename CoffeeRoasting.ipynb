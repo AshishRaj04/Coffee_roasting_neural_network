{
 "cells": [
  {
   "cell_type": "code",
   "execution_count": 136,
   "id": "a8759c14-030a-4217-b057-dc536e60ff9e",
   "metadata": {},
   "outputs": [],
   "source": [
    "import numpy as np\n",
    "import matplotlib.pyplot as plt\n",
    "import tensorflow as tf\n",
    "from tensorflow.keras.layers import Dense\n",
    "from tensorflow.keras.models import Sequential"
   ]
  },
  {
   "cell_type": "code",
   "execution_count": 137,
   "id": "e3c2620d-890d-4b11-a68d-2feeb4efcc69",
   "metadata": {},
   "outputs": [
    {
     "name": "stdout",
     "output_type": "stream",
     "text": [
      "2.16.1\n"
     ]
    }
   ],
   "source": [
    "print(tf.__version__)"
   ]
  },
  {
   "cell_type": "code",
   "execution_count": 138,
   "id": "bd85f405-c2bf-4e31-9f24-90a5efea8e4f",
   "metadata": {},
   "outputs": [],
   "source": [
    "x = np.array([[185.32, 12.69],\n",
    "              [231.01, 14.41],\n",
    "              [175.37, 11.72],\n",
    "              [187.12, 14.13],\n",
    "              [225.91, 12.1],\n",
    "              [208.41, 14.18],\n",
    "              [207.08, 14.03],\n",
    "              [280.6,  14.23],\n",
    "              [202.87, 12.25],\n",
    "              [259.92, 11.87],\n",
    "              [196.7,  13.54],\n",
    "              [270.31,  14.6],\n",
    "              [192.95, 15.2],\n",
    "              [213.57, 14.28]\n",
    "              ])\n",
    "\n",
    "y = np.array([0,1,0,1,0,1,0,1,0,1,0,1,1,0])\n",
    "\n",
    "\n",
    "y = y.reshape(-1, 1)\n",
    "\n",
    "\n",
    "# print(x , y)"
   ]
  },
  {
   "cell_type": "markdown",
   "id": "e0e8fd7f-5c1c-4b36-82d7-94d228845277",
   "metadata": {},
   "source": [
    "# Normalization"
   ]
  },
  {
   "cell_type": "code",
   "execution_count": 139,
   "id": "f5664b94-474b-49d3-acdd-01d60871d688",
   "metadata": {},
   "outputs": [
    {
     "name": "stdout",
     "output_type": "stream",
     "text": [
      "Max min temp pre Normalization 280.6 175.37\n",
      "Max min dura pre Normalization 15.2 11.72\n"
     ]
    }
   ],
   "source": [
    "print(f\"Max min temp pre Normalization {np.max(x[:,0])} {np.min(x[:,0])}\")\n",
    "print(f\"Max min dura pre Normalization {np.max(x[:,1])} {np.min(x[:,1])}\")"
   ]
  },
  {
   "cell_type": "code",
   "execution_count": 140,
   "id": "1335d135-e31d-4e6d-9196-14a516fc6b52",
   "metadata": {},
   "outputs": [],
   "source": [
    "normalization = tf.keras.layers.Normalization(axis=-1)\n",
    "normalization.adapt(x)\n",
    "normalized_x = normalization(x)"
   ]
  },
  {
   "cell_type": "code",
   "execution_count": 141,
   "id": "cd200cd7-ca23-45b0-8977-420e21b9fc03",
   "metadata": {},
   "outputs": [
    {
     "name": "stdout",
     "output_type": "stream",
     "text": [
      "original daat:- [[185.32  12.69]\n",
      " [231.01  14.41]\n",
      " [175.37  11.72]\n",
      " [187.12  14.13]\n",
      " [225.91  12.1 ]\n",
      " [208.41  14.18]\n",
      " [207.08  14.03]\n",
      " [280.6   14.23]\n",
      " [202.87  12.25]\n",
      " [259.92  11.87]\n",
      " [196.7   13.54]\n",
      " [270.31  14.6 ]\n",
      " [192.95  15.2 ]\n",
      " [213.57  14.28]]\n",
      "\n",
      " normalized daat:- [[-0.9995718  -0.74535406]\n",
      " [ 0.44484636  0.8059088 ]\n",
      " [-1.314126   -1.6201935 ]\n",
      " [-0.942668    0.5533779 ]\n",
      " [ 0.28361803 -1.2774725 ]\n",
      " [-0.26961735  0.59847295]\n",
      " [-0.3116633   0.4631879 ]\n",
      " [ 2.0125577   0.6435671 ]\n",
      " [-0.44475615 -1.1421883 ]\n",
      " [ 1.3587918  -1.4849093 ]\n",
      " [-0.6398111   0.02125862]\n",
      " [ 1.687255    0.9772697 ]\n",
      " [-0.7583615   1.5184073 ]\n",
      " [-0.10649183  0.6886621 ]]\n"
     ]
    }
   ],
   "source": [
    "print(f\"original daat:- {x}\")\n",
    "print(f\"\\n normalized daat:- {normalized_x}\")"
   ]
  },
  {
   "cell_type": "code",
   "execution_count": 142,
   "id": "6bf3cf9d-51d3-4415-a612-7ca6402fdc42",
   "metadata": {},
   "outputs": [],
   "source": [
    "tf.random.set_seed(0)\n",
    "model = Sequential([\n",
    "    tf.keras.Input(shape=(2,)),\n",
    "    Dense(units = 3 , activation = \"sigmoid\" , name = \"layer1\"),\n",
    "    Dense(units = 1 , activation = \"sigmoid\" , name = \"layer2\")\n",
    "])"
   ]
  },
  {
   "cell_type": "code",
   "execution_count": 143,
   "id": "44768fdf-f1a3-43bf-878a-4f64c29c844e",
   "metadata": {},
   "outputs": [
    {
     "data": {
      "text/html": [
       "<pre style=\"white-space:pre;overflow-x:auto;line-height:normal;font-family:Menlo,'DejaVu Sans Mono',consolas,'Courier New',monospace\"><span style=\"font-weight: bold\">Model: \"sequential_7\"</span>\n",
       "</pre>\n"
      ],
      "text/plain": [
       "\u001b[1mModel: \"sequential_7\"\u001b[0m\n"
      ]
     },
     "metadata": {},
     "output_type": "display_data"
    },
    {
     "data": {
      "text/html": [
       "<pre style=\"white-space:pre;overflow-x:auto;line-height:normal;font-family:Menlo,'DejaVu Sans Mono',consolas,'Courier New',monospace\">┏━━━━━━━━━━━━━━━━━━━━━━━━━━━━━━━━━━━━━━┳━━━━━━━━━━━━━━━━━━━━━━━━━━━━━┳━━━━━━━━━━━━━━━━━┓\n",
       "┃<span style=\"font-weight: bold\"> Layer (type)                         </span>┃<span style=\"font-weight: bold\"> Output Shape                </span>┃<span style=\"font-weight: bold\">         Param # </span>┃\n",
       "┡━━━━━━━━━━━━━━━━━━━━━━━━━━━━━━━━━━━━━━╇━━━━━━━━━━━━━━━━━━━━━━━━━━━━━╇━━━━━━━━━━━━━━━━━┩\n",
       "│ layer1 (<span style=\"color: #0087ff; text-decoration-color: #0087ff\">Dense</span>)                       │ (<span style=\"color: #00d7ff; text-decoration-color: #00d7ff\">None</span>, <span style=\"color: #00af00; text-decoration-color: #00af00\">3</span>)                   │               <span style=\"color: #00af00; text-decoration-color: #00af00\">9</span> │\n",
       "├──────────────────────────────────────┼─────────────────────────────┼─────────────────┤\n",
       "│ layer2 (<span style=\"color: #0087ff; text-decoration-color: #0087ff\">Dense</span>)                       │ (<span style=\"color: #00d7ff; text-decoration-color: #00d7ff\">None</span>, <span style=\"color: #00af00; text-decoration-color: #00af00\">1</span>)                   │               <span style=\"color: #00af00; text-decoration-color: #00af00\">4</span> │\n",
       "└──────────────────────────────────────┴─────────────────────────────┴─────────────────┘\n",
       "</pre>\n"
      ],
      "text/plain": [
       "┏━━━━━━━━━━━━━━━━━━━━━━━━━━━━━━━━━━━━━━┳━━━━━━━━━━━━━━━━━━━━━━━━━━━━━┳━━━━━━━━━━━━━━━━━┓\n",
       "┃\u001b[1m \u001b[0m\u001b[1mLayer (type)                        \u001b[0m\u001b[1m \u001b[0m┃\u001b[1m \u001b[0m\u001b[1mOutput Shape               \u001b[0m\u001b[1m \u001b[0m┃\u001b[1m \u001b[0m\u001b[1m        Param #\u001b[0m\u001b[1m \u001b[0m┃\n",
       "┡━━━━━━━━━━━━━━━━━━━━━━━━━━━━━━━━━━━━━━╇━━━━━━━━━━━━━━━━━━━━━━━━━━━━━╇━━━━━━━━━━━━━━━━━┩\n",
       "│ layer1 (\u001b[38;5;33mDense\u001b[0m)                       │ (\u001b[38;5;45mNone\u001b[0m, \u001b[38;5;34m3\u001b[0m)                   │               \u001b[38;5;34m9\u001b[0m │\n",
       "├──────────────────────────────────────┼─────────────────────────────┼─────────────────┤\n",
       "│ layer2 (\u001b[38;5;33mDense\u001b[0m)                       │ (\u001b[38;5;45mNone\u001b[0m, \u001b[38;5;34m1\u001b[0m)                   │               \u001b[38;5;34m4\u001b[0m │\n",
       "└──────────────────────────────────────┴─────────────────────────────┴─────────────────┘\n"
      ]
     },
     "metadata": {},
     "output_type": "display_data"
    },
    {
     "data": {
      "text/html": [
       "<pre style=\"white-space:pre;overflow-x:auto;line-height:normal;font-family:Menlo,'DejaVu Sans Mono',consolas,'Courier New',monospace\"><span style=\"font-weight: bold\"> Total params: </span><span style=\"color: #00af00; text-decoration-color: #00af00\">13</span> (52.00 B)\n",
       "</pre>\n"
      ],
      "text/plain": [
       "\u001b[1m Total params: \u001b[0m\u001b[38;5;34m13\u001b[0m (52.00 B)\n"
      ]
     },
     "metadata": {},
     "output_type": "display_data"
    },
    {
     "data": {
      "text/html": [
       "<pre style=\"white-space:pre;overflow-x:auto;line-height:normal;font-family:Menlo,'DejaVu Sans Mono',consolas,'Courier New',monospace\"><span style=\"font-weight: bold\"> Trainable params: </span><span style=\"color: #00af00; text-decoration-color: #00af00\">13</span> (52.00 B)\n",
       "</pre>\n"
      ],
      "text/plain": [
       "\u001b[1m Trainable params: \u001b[0m\u001b[38;5;34m13\u001b[0m (52.00 B)\n"
      ]
     },
     "metadata": {},
     "output_type": "display_data"
    },
    {
     "data": {
      "text/html": [
       "<pre style=\"white-space:pre;overflow-x:auto;line-height:normal;font-family:Menlo,'DejaVu Sans Mono',consolas,'Courier New',monospace\"><span style=\"font-weight: bold\"> Non-trainable params: </span><span style=\"color: #00af00; text-decoration-color: #00af00\">0</span> (0.00 B)\n",
       "</pre>\n"
      ],
      "text/plain": [
       "\u001b[1m Non-trainable params: \u001b[0m\u001b[38;5;34m0\u001b[0m (0.00 B)\n"
      ]
     },
     "metadata": {},
     "output_type": "display_data"
    }
   ],
   "source": [
    "model.summary()"
   ]
  },
  {
   "cell_type": "markdown",
   "id": "0b12c18d-2513-4a69-a0b8-c8d5c58863ac",
   "metadata": {},
   "source": [
    "# Parameters count"
   ]
  },
  {
   "cell_type": "markdown",
   "id": "3e7dab39-452b-4734-a74f-bd7fab806302",
   "metadata": {},
   "source": [
    "- Layer1 parameters = 2 * 3 (w) + 1 * 3 (b) = 9\n",
    "- Layer 2 parameters = 3 * 1 (w) + 1 * 1 (b) = 4\n",
    "- Total parameters = 9 + 4 = 13"
   ]
  },
  {
   "cell_type": "code",
   "execution_count": 144,
   "id": "3f8c4215-7637-4a01-9c82-123d2841a3cc",
   "metadata": {},
   "outputs": [
    {
     "name": "stdout",
     "output_type": "stream",
     "text": [
      "13\n"
     ]
    }
   ],
   "source": [
    "L1_parameters = 2*3 + 1*3 \n",
    "L2_parameters = 3*1 + 1*1\n",
    "\n",
    "Total_parameters = L1_parameters + L2_parameters\n",
    "\n",
    "print(Total_parameters)"
   ]
  },
  {
   "cell_type": "code",
   "execution_count": 145,
   "id": "3cc8e0cb-6abe-4d20-9dd0-39eac2d692a1",
   "metadata": {},
   "outputs": [],
   "source": [
    "w1 , b1 = model.get_layer(\"layer1\").get_weights()\n",
    "w2 , b2 = model.get_layer(\"layer2\").get_weights()"
   ]
  },
  {
   "cell_type": "code",
   "execution_count": 146,
   "id": "149eb0a9-fe8c-408c-93df-0a9d82ce0250",
   "metadata": {},
   "outputs": [
    {
     "name": "stdout",
     "output_type": "stream",
     "text": [
      "[[-0.02422154  0.513124   -0.98391974]\n",
      " [-0.8700067  -0.20420057 -0.7046393 ]]\n",
      "\n",
      " [0. 0. 0.]\n",
      "\n",
      " [[-0.38206148]\n",
      " [-0.62536186]\n",
      " [ 0.6427053 ]]\n",
      "\n",
      " [0.]\n"
     ]
    }
   ],
   "source": [
    "print(w1)\n",
    "print(\"\\n\" , b1)\n",
    "print(\"\\n\",w2)\n",
    "print(\"\\n\",b2)"
   ]
  },
  {
   "cell_type": "code",
   "execution_count": 147,
   "id": "384ab8bf-279f-40dd-a04d-cf710c357f16",
   "metadata": {},
   "outputs": [],
   "source": [
    "Xt = normalized_x\n",
    "Yt = y"
   ]
  },
  {
   "cell_type": "code",
   "execution_count": 148,
   "id": "4eff08d4-44c0-4d75-9d38-842bd9247a30",
   "metadata": {},
   "outputs": [
    {
     "name": "stdout",
     "output_type": "stream",
     "text": [
      "Epoch 1/10\n"
     ]
    },
    {
     "name": "stdout",
     "output_type": "stream",
     "text": [
      "\u001b[1m1/1\u001b[0m \u001b[32m━━━━━━━━━━━━━━━━━━━━\u001b[0m\u001b[37m\u001b[0m \u001b[1m1s\u001b[0m 1s/step - loss: 0.7462\n",
      "Epoch 2/10\n",
      "\u001b[1m1/1\u001b[0m \u001b[32m━━━━━━━━━━━━━━━━━━━━\u001b[0m\u001b[37m\u001b[0m \u001b[1m0s\u001b[0m 31ms/step - loss: 0.7425\n",
      "Epoch 3/10\n",
      "\u001b[1m1/1\u001b[0m \u001b[32m━━━━━━━━━━━━━━━━━━━━\u001b[0m\u001b[37m\u001b[0m \u001b[1m0s\u001b[0m 40ms/step - loss: 0.7389\n",
      "Epoch 4/10\n",
      "\u001b[1m1/1\u001b[0m \u001b[32m━━━━━━━━━━━━━━━━━━━━\u001b[0m\u001b[37m\u001b[0m \u001b[1m0s\u001b[0m 35ms/step - loss: 0.7353\n",
      "Epoch 5/10\n",
      "\u001b[1m1/1\u001b[0m \u001b[32m━━━━━━━━━━━━━━━━━━━━\u001b[0m\u001b[37m\u001b[0m \u001b[1m0s\u001b[0m 28ms/step - loss: 0.7318\n",
      "Epoch 6/10\n",
      "\u001b[1m1/1\u001b[0m \u001b[32m━━━━━━━━━━━━━━━━━━━━\u001b[0m\u001b[37m\u001b[0m \u001b[1m0s\u001b[0m 25ms/step - loss: 0.7284\n",
      "Epoch 7/10\n",
      "\u001b[1m1/1\u001b[0m \u001b[32m━━━━━━━━━━━━━━━━━━━━\u001b[0m\u001b[37m\u001b[0m \u001b[1m0s\u001b[0m 26ms/step - loss: 0.7249\n",
      "Epoch 8/10\n",
      "\u001b[1m1/1\u001b[0m \u001b[32m━━━━━━━━━━━━━━━━━━━━\u001b[0m\u001b[37m\u001b[0m \u001b[1m0s\u001b[0m 29ms/step - loss: 0.7216\n",
      "Epoch 9/10\n",
      "\u001b[1m1/1\u001b[0m \u001b[32m━━━━━━━━━━━━━━━━━━━━\u001b[0m\u001b[37m\u001b[0m \u001b[1m0s\u001b[0m 30ms/step - loss: 0.7183\n",
      "Epoch 10/10\n",
      "\u001b[1m1/1\u001b[0m \u001b[32m━━━━━━━━━━━━━━━━━━━━\u001b[0m\u001b[37m\u001b[0m \u001b[1m0s\u001b[0m 33ms/step - loss: 0.7151\n"
     ]
    },
    {
     "data": {
      "text/plain": [
       "<keras.src.callbacks.history.History at 0x1f9cb46f290>"
      ]
     },
     "execution_count": 148,
     "metadata": {},
     "output_type": "execute_result"
    }
   ],
   "source": [
    "model.compile(\n",
    "    loss = tf.keras.losses.BinaryCrossentropy(),\n",
    "    optimizer = tf.keras.optimizers.Adam(learning_rate=0.01),\n",
    ")\n",
    "\n",
    "model.fit(\n",
    "    Xt,Yt,            \n",
    "    epochs=10,\n",
    ")"
   ]
  },
  {
   "cell_type": "markdown",
   "id": "cb635132-f3ad-46d4-9bad-0a0e08b3b864",
   "metadata": {},
   "source": [
    "# Updated weights"
   ]
  },
  {
   "cell_type": "code",
   "execution_count": 149,
   "id": "54166809-8fbb-42d6-b18e-2b6996bac276",
   "metadata": {},
   "outputs": [
    {
     "name": "stdout",
     "output_type": "stream",
     "text": [
      "W1:\n",
      " [[-0.12451074  0.41360432 -0.8840551 ]\n",
      " [-0.9701767  -0.30342582 -0.6051253 ]] \n",
      "b1: [-0.09620284 -0.09588804  0.09831239]\n",
      "W2:\n",
      " [[-0.48317137]\n",
      " [-0.5280576 ]\n",
      " [ 0.54282063]] \n",
      "b2: [0.09782391]\n"
     ]
    }
   ],
   "source": [
    "W1, b1 = model.get_layer(\"layer1\").get_weights()\n",
    "W2, b2 = model.get_layer(\"layer2\").get_weights()\n",
    "print(\"W1:\\n\", W1, \"\\nb1:\", b1)\n",
    "print(\"W2:\\n\", W2, \"\\nb2:\", b2)"
   ]
  },
  {
   "cell_type": "markdown",
   "id": "3c9cc9f0-6e33-4179-b7e0-ed171af7805a",
   "metadata": {},
   "source": [
    "**The model has been trained . You can now make pridictions.**\n",
    "*Recall, we have normalized the input features so we must normalize our test data as well*"
   ]
  },
  {
   "cell_type": "code",
   "execution_count": 150,
   "id": "8b999e49-37be-4d8b-be14-11bec4e8a82f",
   "metadata": {},
   "outputs": [],
   "source": [
    "x_test = np.array([[100, 59],\n",
    "    [160, 19],\n",
    "    [130, 16],\n",
    "    [145, 11],\n",
    "    [125, 21],\n",
    "    [120, 11]])\n",
    "x_test_normalized = normalization(x_test)"
   ]
  },
  {
   "cell_type": "code",
   "execution_count": 151,
   "id": "f9f8eb31-621e-4313-bfa5-2bafa3aa75aa",
   "metadata": {},
   "outputs": [
    {
     "name": "stdout",
     "output_type": "stream",
     "text": [
      "WARNING:tensorflow:6 out of the last 6 calls to <function TensorFlowTrainer.make_predict_function.<locals>.one_step_on_data_distributed at 0x000001F9CB4D1300> triggered tf.function retracing. Tracing is expensive and the excessive number of tracings could be due to (1) creating @tf.function repeatedly in a loop, (2) passing tensors with different shapes, (3) passing Python objects instead of tensors. For (1), please define your @tf.function outside of the loop. For (2), @tf.function has reduce_retracing=True option that can avoid unnecessary retracing. For (3), please refer to https://www.tensorflow.org/guide/function#controlling_retracing and https://www.tensorflow.org/api_docs/python/tf/function for  more details.\n",
      "\u001b[1m1/1\u001b[0m \u001b[32m━━━━━━━━━━━━━━━━━━━━\u001b[0m\u001b[37m\u001b[0m \u001b[1m0s\u001b[0m 59ms/step\n"
     ]
    }
   ],
   "source": [
    "predicted_values = model.predict(x_test_normalized)"
   ]
  },
  {
   "cell_type": "code",
   "execution_count": 152,
   "id": "98f82370-e33c-4f51-a94f-e05aa0df457c",
   "metadata": {},
   "outputs": [
    {
     "name": "stdout",
     "output_type": "stream",
     "text": [
      "[[0.52443635]\n",
      " [0.54064906]\n",
      " [0.5945878 ]\n",
      " [0.4908318 ]\n",
      " [0.5461    ]\n",
      " [0.50205123]]\n"
     ]
    }
   ],
   "source": [
    "print(predicted_values)"
   ]
  },
  {
   "cell_type": "code",
   "execution_count": 153,
   "id": "6b4c34f9-6201-411a-9b35-1fb3b8175a71",
   "metadata": {},
   "outputs": [],
   "source": [
    "y_hat = np.zeros_like(predicted_values)\n",
    "\n",
    "for i in range(len(y_hat)):\n",
    "    if(predicted_values[i] >= 0.5):\n",
    "        y_hat[i] = 1\n",
    "    else:\n",
    "        y_hat[i] = 0\n",
    "  "
   ]
  },
  {
   "cell_type": "code",
   "execution_count": 154,
   "id": "0bfe410e-fd14-4fbb-8d6d-e2d266d74d79",
   "metadata": {},
   "outputs": [
    {
     "name": "stdout",
     "output_type": "stream",
     "text": [
      "[[1.]\n",
      " [1.]\n",
      " [1.]\n",
      " [0.]\n",
      " [1.]\n",
      " [1.]]\n"
     ]
    }
   ],
   "source": [
    "decision = y_hat\n",
    "print(decision)"
   ]
  },
  {
   "cell_type": "code",
   "execution_count": null,
   "id": "2f31dea1-a2fe-4c9f-a84c-cf90aa4d8346",
   "metadata": {},
   "outputs": [],
   "source": []
  }
 ],
 "metadata": {
  "kernelspec": {
   "display_name": "Python 3 (ipykernel)",
   "language": "python",
   "name": "python3"
  },
  "language_info": {
   "codemirror_mode": {
    "name": "ipython",
    "version": 3
   },
   "file_extension": ".py",
   "mimetype": "text/x-python",
   "name": "python",
   "nbconvert_exporter": "python",
   "pygments_lexer": "ipython3",
   "version": "3.12.1"
  }
 },
 "nbformat": 4,
 "nbformat_minor": 5
}
